{
 "cells": [
  {
   "cell_type": "markdown",
   "metadata": {},
   "source": [
    "# ML Kaggle Competition"
   ]
  },
  {
   "cell_type": "markdown",
   "metadata": {},
   "source": [
    "### - Import Libs"
   ]
  },
  {
   "cell_type": "code",
   "execution_count": 22,
   "metadata": {},
   "outputs": [],
   "source": [
    "import pandas as pd\n",
    "import matplotlib.pyplot as plt\n",
    "import numpy as np\n",
    "from scipy import stats\n",
    "import category_encoders as ce\n",
    "from sklearn.model_selection import train_test_split as tts\n",
    "from sklearn.ensemble import RandomForestRegressor  as rfr\n",
    "from sklearn.metrics import mean_squared_error\n",
    "from math import sqrt\n",
    "from sklearn.preprocessing import MinMaxScaler\n",
    "from sklearn.model_selection import StratifiedKFold\n",
    "from sklearn.linear_model import LinearRegression"
   ]
  },
  {
   "cell_type": "markdown",
   "metadata": {},
   "source": [
    "### - Reading training defining \"Instance\" as index column"
   ]
  },
  {
   "cell_type": "code",
   "execution_count": 23,
   "metadata": {},
   "outputs": [],
   "source": [
    "train = pd.read_csv(\"D:\\Documents\\Coursework\\Machine_Learning\\Kaggle_Assignment/train.csv\", index_col = \"Instance\")\n",
    "test = pd.read_csv(\"D:\\Documents\\Coursework\\Machine_Learning\\Kaggle_Assignment/test.csv\", index_col = \"Instance\")"
   ]
  },
  {
   "cell_type": "code",
   "execution_count": 24,
   "metadata": {},
   "outputs": [
    {
     "data": {
      "text/plain": [
       "Index(['Year of Record', 'Gender', 'Age', 'Country', 'Size of City',\n",
       "       'Profession', 'University Degree', 'Wears Glasses', 'Hair Color',\n",
       "       'Body Height [cm]', 'Income in EUR'],\n",
       "      dtype='object')"
      ]
     },
     "execution_count": 24,
     "metadata": {},
     "output_type": "execute_result"
    }
   ],
   "source": [
    "# Verifying column names are correct\n",
    "train.columns"
   ]
  },
  {
   "cell_type": "code",
   "execution_count": 25,
   "metadata": {},
   "outputs": [
    {
     "data": {
      "text/plain": [
       "Index(['Year of Record', 'Gender', 'Age', 'Country', 'Size of City',\n",
       "       'Profession', 'University Degree', 'Wears Glasses', 'Hair Color',\n",
       "       'Body Height [cm]', 'Income'],\n",
       "      dtype='object')"
      ]
     },
     "execution_count": 25,
     "metadata": {},
     "output_type": "execute_result"
    }
   ],
   "source": [
    "test.columns"
   ]
  },
  {
   "cell_type": "code",
   "execution_count": 26,
   "metadata": {
    "scrolled": true
   },
   "outputs": [
    {
     "data": {
      "text/plain": [
       "array([[['Year of Record', 'Gender', 'Age', 'Country', 'Size of City',\n",
       "         'Profession', 'University Degree', 'Wears Glasses',\n",
       "         'Hair Color', 'Body Height [cm]', 'Income in EUR']],\n",
       "\n",
       "       [[441, 7432, 494, 0, 0, 322, 7370, 0, 7242, 0, 0]],\n",
       "\n",
       "       [[295, 4862, 279, 0, 0, 195, 4857, 0, 4916, 0, 73230]]],\n",
       "      dtype=object)"
      ]
     },
     "execution_count": 26,
     "metadata": {},
     "output_type": "execute_result"
    }
   ],
   "source": [
    "# Checking count of nulls in both train and test\n",
    "np.array([[train.columns],[train.isnull().sum()], [test.isnull().sum()]])"
   ]
  },
  {
   "cell_type": "code",
   "execution_count": 27,
   "metadata": {},
   "outputs": [
    {
     "data": {
      "text/plain": [
       "(2399,)"
      ]
     },
     "execution_count": 27,
     "metadata": {},
     "output_type": "execute_result"
    }
   ],
   "source": [
    "x = stats.zscore(train[\"Income in EUR\"])\n",
    "x[x>3].shape"
   ]
  },
  {
   "cell_type": "markdown",
   "metadata": {},
   "source": [
    "#### -  Z score outlier detection strategy is giving ~2400 outliers...Not convinced. Trying manual analysis"
   ]
  },
  {
   "cell_type": "code",
   "execution_count": 28,
   "metadata": {},
   "outputs": [
    {
     "data": {
      "text/html": [
       "<div>\n",
       "<style scoped>\n",
       "    .dataframe tbody tr th:only-of-type {\n",
       "        vertical-align: middle;\n",
       "    }\n",
       "\n",
       "    .dataframe tbody tr th {\n",
       "        vertical-align: top;\n",
       "    }\n",
       "\n",
       "    .dataframe thead th {\n",
       "        text-align: right;\n",
       "    }\n",
       "</style>\n",
       "<table border=\"1\" class=\"dataframe\">\n",
       "  <thead>\n",
       "    <tr style=\"text-align: right;\">\n",
       "      <th></th>\n",
       "      <th>Year of Record</th>\n",
       "      <th>Gender</th>\n",
       "      <th>Age</th>\n",
       "      <th>Country</th>\n",
       "      <th>Size of City</th>\n",
       "      <th>Profession</th>\n",
       "      <th>University Degree</th>\n",
       "      <th>Wears Glasses</th>\n",
       "      <th>Hair Color</th>\n",
       "      <th>Body Height [cm]</th>\n",
       "      <th>Income in EUR</th>\n",
       "    </tr>\n",
       "    <tr>\n",
       "      <th>Instance</th>\n",
       "      <th></th>\n",
       "      <th></th>\n",
       "      <th></th>\n",
       "      <th></th>\n",
       "      <th></th>\n",
       "      <th></th>\n",
       "      <th></th>\n",
       "      <th></th>\n",
       "      <th></th>\n",
       "      <th></th>\n",
       "      <th></th>\n",
       "    </tr>\n",
       "  </thead>\n",
       "  <tbody>\n",
       "    <tr>\n",
       "      <th>19779</th>\n",
       "      <td>2012.0</td>\n",
       "      <td>NaN</td>\n",
       "      <td>21.0</td>\n",
       "      <td>United Arab Emirates</td>\n",
       "      <td>15116</td>\n",
       "      <td>biological scientist</td>\n",
       "      <td>Bachelor</td>\n",
       "      <td>1</td>\n",
       "      <td>Black</td>\n",
       "      <td>197</td>\n",
       "      <td>-5696.906419</td>\n",
       "    </tr>\n",
       "    <tr>\n",
       "      <th>90606</th>\n",
       "      <td>2017.0</td>\n",
       "      <td>NaN</td>\n",
       "      <td>15.0</td>\n",
       "      <td>Israel</td>\n",
       "      <td>4226</td>\n",
       "      <td>information systems and quality analyst</td>\n",
       "      <td>Bachelor</td>\n",
       "      <td>1</td>\n",
       "      <td>Black</td>\n",
       "      <td>151</td>\n",
       "      <td>-4912.846178</td>\n",
       "    </tr>\n",
       "    <tr>\n",
       "      <th>106524</th>\n",
       "      <td>2016.0</td>\n",
       "      <td>NaN</td>\n",
       "      <td>48.0</td>\n",
       "      <td>Tajikistan</td>\n",
       "      <td>12772</td>\n",
       "      <td>chief engineer of dispute resolutions</td>\n",
       "      <td>Bachelor</td>\n",
       "      <td>1</td>\n",
       "      <td>Brown</td>\n",
       "      <td>210</td>\n",
       "      <td>-3915.539243</td>\n",
       "    </tr>\n",
       "    <tr>\n",
       "      <th>74827</th>\n",
       "      <td>2007.0</td>\n",
       "      <td>NaN</td>\n",
       "      <td>44.0</td>\n",
       "      <td>Togo</td>\n",
       "      <td>50052</td>\n",
       "      <td>collections administrator</td>\n",
       "      <td>No</td>\n",
       "      <td>0</td>\n",
       "      <td>Black</td>\n",
       "      <td>159</td>\n",
       "      <td>-3680.798573</td>\n",
       "    </tr>\n",
       "    <tr>\n",
       "      <th>78758</th>\n",
       "      <td>2018.0</td>\n",
       "      <td>NaN</td>\n",
       "      <td>20.0</td>\n",
       "      <td>Sierra Leone</td>\n",
       "      <td>31233</td>\n",
       "      <td>human resources college aide</td>\n",
       "      <td>Bachelor</td>\n",
       "      <td>0</td>\n",
       "      <td>Black</td>\n",
       "      <td>188</td>\n",
       "      <td>-3676.159426</td>\n",
       "    </tr>\n",
       "    <tr>\n",
       "      <th>37122</th>\n",
       "      <td>2004.0</td>\n",
       "      <td>NaN</td>\n",
       "      <td>21.0</td>\n",
       "      <td>Switzerland</td>\n",
       "      <td>21256</td>\n",
       "      <td>desktop publisher</td>\n",
       "      <td>NaN</td>\n",
       "      <td>0</td>\n",
       "      <td>Black</td>\n",
       "      <td>172</td>\n",
       "      <td>-3435.669983</td>\n",
       "    </tr>\n",
       "    <tr>\n",
       "      <th>74117</th>\n",
       "      <td>NaN</td>\n",
       "      <td>female</td>\n",
       "      <td>34.0</td>\n",
       "      <td>Togo</td>\n",
       "      <td>32926</td>\n",
       "      <td>facilities management assistant</td>\n",
       "      <td>Bachelor</td>\n",
       "      <td>0</td>\n",
       "      <td>Blond</td>\n",
       "      <td>136</td>\n",
       "      <td>-3320.153254</td>\n",
       "    </tr>\n",
       "    <tr>\n",
       "      <th>27328</th>\n",
       "      <td>2008.0</td>\n",
       "      <td>female</td>\n",
       "      <td>15.0</td>\n",
       "      <td>Austria</td>\n",
       "      <td>69677</td>\n",
       "      <td>dental assistant</td>\n",
       "      <td>No</td>\n",
       "      <td>1</td>\n",
       "      <td>Black</td>\n",
       "      <td>160</td>\n",
       "      <td>-3238.286803</td>\n",
       "    </tr>\n",
       "    <tr>\n",
       "      <th>97298</th>\n",
       "      <td>1987.0</td>\n",
       "      <td>female</td>\n",
       "      <td>27.0</td>\n",
       "      <td>Israel</td>\n",
       "      <td>18838</td>\n",
       "      <td>construction inspector</td>\n",
       "      <td>Bachelor</td>\n",
       "      <td>0</td>\n",
       "      <td>Red</td>\n",
       "      <td>119</td>\n",
       "      <td>-3067.030654</td>\n",
       "    </tr>\n",
       "    <tr>\n",
       "      <th>82387</th>\n",
       "      <td>2004.0</td>\n",
       "      <td>female</td>\n",
       "      <td>15.0</td>\n",
       "      <td>Togo</td>\n",
       "      <td>86439</td>\n",
       "      <td>elevator repairer</td>\n",
       "      <td>Master</td>\n",
       "      <td>1</td>\n",
       "      <td>Blond</td>\n",
       "      <td>179</td>\n",
       "      <td>-2974.548816</td>\n",
       "    </tr>\n",
       "  </tbody>\n",
       "</table>\n",
       "</div>"
      ],
      "text/plain": [
       "          Year of Record  Gender   Age               Country  Size of City  \\\n",
       "Instance                                                                     \n",
       "19779             2012.0     NaN  21.0  United Arab Emirates         15116   \n",
       "90606             2017.0     NaN  15.0                Israel          4226   \n",
       "106524            2016.0     NaN  48.0            Tajikistan         12772   \n",
       "74827             2007.0     NaN  44.0                  Togo         50052   \n",
       "78758             2018.0     NaN  20.0          Sierra Leone         31233   \n",
       "37122             2004.0     NaN  21.0           Switzerland         21256   \n",
       "74117                NaN  female  34.0                  Togo         32926   \n",
       "27328             2008.0  female  15.0               Austria         69677   \n",
       "97298             1987.0  female  27.0                Israel         18838   \n",
       "82387             2004.0  female  15.0                  Togo         86439   \n",
       "\n",
       "                                       Profession University Degree  \\\n",
       "Instance                                                              \n",
       "19779                        biological scientist          Bachelor   \n",
       "90606     information systems and quality analyst          Bachelor   \n",
       "106524      chief engineer of dispute resolutions          Bachelor   \n",
       "74827                   collections administrator                No   \n",
       "78758                human resources college aide          Bachelor   \n",
       "37122                           desktop publisher               NaN   \n",
       "74117             facilities management assistant          Bachelor   \n",
       "27328                            dental assistant                No   \n",
       "97298                      construction inspector          Bachelor   \n",
       "82387                           elevator repairer            Master   \n",
       "\n",
       "          Wears Glasses Hair Color  Body Height [cm]  Income in EUR  \n",
       "Instance                                                             \n",
       "19779                 1      Black               197   -5696.906419  \n",
       "90606                 1      Black               151   -4912.846178  \n",
       "106524                1      Brown               210   -3915.539243  \n",
       "74827                 0      Black               159   -3680.798573  \n",
       "78758                 0      Black               188   -3676.159426  \n",
       "37122                 0      Black               172   -3435.669983  \n",
       "74117                 0      Blond               136   -3320.153254  \n",
       "27328                 1      Black               160   -3238.286803  \n",
       "97298                 0        Red               119   -3067.030654  \n",
       "82387                 1      Blond               179   -2974.548816  "
      ]
     },
     "execution_count": 28,
     "metadata": {},
     "output_type": "execute_result"
    }
   ],
   "source": [
    "train.sort_values('Income in EUR').head(10)"
   ]
  },
  {
   "cell_type": "code",
   "execution_count": 29,
   "metadata": {},
   "outputs": [
    {
     "data": {
      "text/html": [
       "<div>\n",
       "<style scoped>\n",
       "    .dataframe tbody tr th:only-of-type {\n",
       "        vertical-align: middle;\n",
       "    }\n",
       "\n",
       "    .dataframe tbody tr th {\n",
       "        vertical-align: top;\n",
       "    }\n",
       "\n",
       "    .dataframe thead th {\n",
       "        text-align: right;\n",
       "    }\n",
       "</style>\n",
       "<table border=\"1\" class=\"dataframe\">\n",
       "  <thead>\n",
       "    <tr style=\"text-align: right;\">\n",
       "      <th></th>\n",
       "      <th>Year of Record</th>\n",
       "      <th>Gender</th>\n",
       "      <th>Age</th>\n",
       "      <th>Country</th>\n",
       "      <th>Size of City</th>\n",
       "      <th>Profession</th>\n",
       "      <th>University Degree</th>\n",
       "      <th>Wears Glasses</th>\n",
       "      <th>Hair Color</th>\n",
       "      <th>Body Height [cm]</th>\n",
       "      <th>Income in EUR</th>\n",
       "    </tr>\n",
       "    <tr>\n",
       "      <th>Instance</th>\n",
       "      <th></th>\n",
       "      <th></th>\n",
       "      <th></th>\n",
       "      <th></th>\n",
       "      <th></th>\n",
       "      <th></th>\n",
       "      <th></th>\n",
       "      <th></th>\n",
       "      <th></th>\n",
       "      <th></th>\n",
       "      <th></th>\n",
       "    </tr>\n",
       "  </thead>\n",
       "  <tbody>\n",
       "    <tr>\n",
       "      <th>427</th>\n",
       "      <td>2006.0</td>\n",
       "      <td>unknown</td>\n",
       "      <td>62.0</td>\n",
       "      <td>Argentina</td>\n",
       "      <td>2065962</td>\n",
       "      <td>oil burner specialist</td>\n",
       "      <td>Master</td>\n",
       "      <td>1</td>\n",
       "      <td>NaN</td>\n",
       "      <td>200</td>\n",
       "      <td>2165958.301</td>\n",
       "    </tr>\n",
       "    <tr>\n",
       "      <th>92518</th>\n",
       "      <td>2008.0</td>\n",
       "      <td>male</td>\n",
       "      <td>71.0</td>\n",
       "      <td>Djibouti</td>\n",
       "      <td>402232</td>\n",
       "      <td>postal service mail carrier</td>\n",
       "      <td>PhD</td>\n",
       "      <td>1</td>\n",
       "      <td>Brown</td>\n",
       "      <td>193</td>\n",
       "      <td>2261278.068</td>\n",
       "    </tr>\n",
       "    <tr>\n",
       "      <th>87755</th>\n",
       "      <td>2014.0</td>\n",
       "      <td>male</td>\n",
       "      <td>62.0</td>\n",
       "      <td>Ghana</td>\n",
       "      <td>381199</td>\n",
       "      <td>service asset configuration manager</td>\n",
       "      <td>PhD</td>\n",
       "      <td>1</td>\n",
       "      <td>Brown</td>\n",
       "      <td>176</td>\n",
       "      <td>2342416.851</td>\n",
       "    </tr>\n",
       "    <tr>\n",
       "      <th>60588</th>\n",
       "      <td>2008.0</td>\n",
       "      <td>other</td>\n",
       "      <td>42.0</td>\n",
       "      <td>Guyana</td>\n",
       "      <td>64129</td>\n",
       "      <td>Anaesthetist</td>\n",
       "      <td>Master</td>\n",
       "      <td>1</td>\n",
       "      <td>Brown</td>\n",
       "      <td>188</td>\n",
       "      <td>2389023.693</td>\n",
       "    </tr>\n",
       "    <tr>\n",
       "      <th>21681</th>\n",
       "      <td>2018.0</td>\n",
       "      <td>male</td>\n",
       "      <td>72.0</td>\n",
       "      <td>Poland</td>\n",
       "      <td>1425888</td>\n",
       "      <td>program assistant</td>\n",
       "      <td>Master</td>\n",
       "      <td>1</td>\n",
       "      <td>Blond</td>\n",
       "      <td>172</td>\n",
       "      <td>2457451.634</td>\n",
       "    </tr>\n",
       "    <tr>\n",
       "      <th>77646</th>\n",
       "      <td>2018.0</td>\n",
       "      <td>female</td>\n",
       "      <td>75.0</td>\n",
       "      <td>Cyprus</td>\n",
       "      <td>277093</td>\n",
       "      <td>senior human capital partnership and performan...</td>\n",
       "      <td>PhD</td>\n",
       "      <td>0</td>\n",
       "      <td>Unknown</td>\n",
       "      <td>188</td>\n",
       "      <td>2515870.715</td>\n",
       "    </tr>\n",
       "    <tr>\n",
       "      <th>93022</th>\n",
       "      <td>2002.0</td>\n",
       "      <td>other</td>\n",
       "      <td>62.0</td>\n",
       "      <td>Sudan</td>\n",
       "      <td>732735</td>\n",
       "      <td>unit clerk</td>\n",
       "      <td>Master</td>\n",
       "      <td>0</td>\n",
       "      <td>Black</td>\n",
       "      <td>195</td>\n",
       "      <td>2580242.873</td>\n",
       "    </tr>\n",
       "    <tr>\n",
       "      <th>60080</th>\n",
       "      <td>2007.0</td>\n",
       "      <td>male</td>\n",
       "      <td>80.0</td>\n",
       "      <td>Angola</td>\n",
       "      <td>130609</td>\n",
       "      <td>triage coordinator</td>\n",
       "      <td>Master</td>\n",
       "      <td>1</td>\n",
       "      <td>Brown</td>\n",
       "      <td>219</td>\n",
       "      <td>3126311.634</td>\n",
       "    </tr>\n",
       "    <tr>\n",
       "      <th>108763</th>\n",
       "      <td>2016.0</td>\n",
       "      <td>other</td>\n",
       "      <td>31.0</td>\n",
       "      <td>Vietnam</td>\n",
       "      <td>91384</td>\n",
       "      <td>radiation therapist</td>\n",
       "      <td>Master</td>\n",
       "      <td>1</td>\n",
       "      <td>Brown</td>\n",
       "      <td>187</td>\n",
       "      <td>3213681.751</td>\n",
       "    </tr>\n",
       "    <tr>\n",
       "      <th>78094</th>\n",
       "      <td>2019.0</td>\n",
       "      <td>male</td>\n",
       "      <td>51.0</td>\n",
       "      <td>Kiribati</td>\n",
       "      <td>767902</td>\n",
       "      <td>Accounts Assistant</td>\n",
       "      <td>Bachelor</td>\n",
       "      <td>0</td>\n",
       "      <td>Blond</td>\n",
       "      <td>185</td>\n",
       "      <td>5285252.357</td>\n",
       "    </tr>\n",
       "  </tbody>\n",
       "</table>\n",
       "</div>"
      ],
      "text/plain": [
       "          Year of Record   Gender   Age    Country  Size of City  \\\n",
       "Instance                                                           \n",
       "427               2006.0  unknown  62.0  Argentina       2065962   \n",
       "92518             2008.0     male  71.0   Djibouti        402232   \n",
       "87755             2014.0     male  62.0      Ghana        381199   \n",
       "60588             2008.0    other  42.0     Guyana         64129   \n",
       "21681             2018.0     male  72.0     Poland       1425888   \n",
       "77646             2018.0   female  75.0     Cyprus        277093   \n",
       "93022             2002.0    other  62.0      Sudan        732735   \n",
       "60080             2007.0     male  80.0     Angola        130609   \n",
       "108763            2016.0    other  31.0    Vietnam         91384   \n",
       "78094             2019.0     male  51.0   Kiribati        767902   \n",
       "\n",
       "                                                 Profession University Degree  \\\n",
       "Instance                                                                        \n",
       "427                                   oil burner specialist            Master   \n",
       "92518                           postal service mail carrier               PhD   \n",
       "87755                   service asset configuration manager               PhD   \n",
       "60588                                          Anaesthetist            Master   \n",
       "21681                                     program assistant            Master   \n",
       "77646     senior human capital partnership and performan...               PhD   \n",
       "93022                                            unit clerk            Master   \n",
       "60080                                    triage coordinator            Master   \n",
       "108763                                  radiation therapist            Master   \n",
       "78094                                    Accounts Assistant          Bachelor   \n",
       "\n",
       "          Wears Glasses Hair Color  Body Height [cm]  Income in EUR  \n",
       "Instance                                                             \n",
       "427                   1        NaN               200    2165958.301  \n",
       "92518                 1      Brown               193    2261278.068  \n",
       "87755                 1      Brown               176    2342416.851  \n",
       "60588                 1      Brown               188    2389023.693  \n",
       "21681                 1      Blond               172    2457451.634  \n",
       "77646                 0    Unknown               188    2515870.715  \n",
       "93022                 0      Black               195    2580242.873  \n",
       "60080                 1      Brown               219    3126311.634  \n",
       "108763                1      Brown               187    3213681.751  \n",
       "78094                 0      Blond               185    5285252.357  "
      ]
     },
     "execution_count": 29,
     "metadata": {},
     "output_type": "execute_result"
    }
   ],
   "source": [
    "train.sort_values('Income in EUR').tail(10)"
   ]
  },
  {
   "cell_type": "code",
   "execution_count": 30,
   "metadata": {},
   "outputs": [
    {
     "data": {
      "text/plain": [
       "<matplotlib.collections.PathCollection at 0x24b11694978>"
      ]
     },
     "execution_count": 30,
     "metadata": {},
     "output_type": "execute_result"
    },
    {
     "data": {
      "image/png": "[encoded data removed]",
      "text/plain": [
       "<Figure size 432x288 with 1 Axes>"
      ]
     },
     "metadata": {
      "needs_background": "light"
     },
     "output_type": "display_data"
    }
   ],
   "source": [
    "plt.scatter(train[\"Age\"], train[\"Income in EUR\"])  # Smells like an outlier! Let eliminate since its just one record"
   ]
  },
  {
   "cell_type": "code",
   "execution_count": 31,
   "metadata": {},
   "outputs": [],
   "source": [
    "train = train[train[\"Income in EUR\"]!=train[\"Income in EUR\"].max()]"
   ]
  },
  {
   "cell_type": "code",
   "execution_count": 32,
   "metadata": {},
   "outputs": [
    {
     "data": {
      "text/plain": [
       "-5696.906419"
      ]
     },
     "execution_count": 32,
     "metadata": {},
     "output_type": "execute_result"
    }
   ],
   "source": [
    "train[\"Income in EUR\"].min()  # Negative Salary!!! Say what!!"
   ]
  },
  {
   "cell_type": "markdown",
   "metadata": {},
   "source": [
    "### - Separating target and features and combining train and test for preprocessing\n",
    "#### Removing Hair Color, Size of City and Wears Glasses because there was not obvious relation in their individual plots against Income"
   ]
  },
  {
   "cell_type": "code",
   "execution_count": 33,
   "metadata": {},
   "outputs": [],
   "source": [
    "test_target = test['Income']\n",
    "test_features = test.drop(columns=[\"Income\"])\n",
    "train_target = train['Income in EUR']\n",
    "train_features = train.drop('Income in EUR', axis=1)\n",
    "test_target = test[\"Income\"]\n",
    "test_features = test.drop('Income', axis=1)\n",
    "combined = pd.concat([train_features, test_features])\n",
    "combined = combined.drop(columns=[\"Hair Color\", \"Size of City\", \"Wears Glasses\"])"
   ]
  },
  {
   "cell_type": "markdown",
   "metadata": {},
   "source": [
    "### Pre-Processing. Handling NAs with various approaches. "
   ]
  },
  {
   "cell_type": "code",
   "execution_count": 34,
   "metadata": {},
   "outputs": [],
   "source": [
    "combined['Age'].fillna(combined['Age'].median(), inplace=True)\n",
    "combined[\"Year of Record\"] = combined['Year of Record'].bfill()\n",
    "combined.Profession = combined.Profession.bfill()\n",
    "combined['University Degree'].replace('0', np.nan, inplace=True)\n",
    "combined[\"University Degree\"] = combined['University Degree'].bfill()"
   ]
  },
  {
   "cell_type": "markdown",
   "metadata": {},
   "source": [
    "#### Checking Unique values in gender. Mapping them to numbers and one hot encoding. \"0\" has been marked as male."
   ]
  },
  {
   "cell_type": "code",
   "execution_count": 35,
   "metadata": {},
   "outputs": [
    {
     "data": {
      "text/plain": [
       "array(['0', 'other', 'female', 'male', nan, 'unknown'], dtype=object)"
      ]
     },
     "execution_count": 35,
     "metadata": {},
     "output_type": "execute_result"
    }
   ],
   "source": [
    "combined.Gender.unique()"
   ]
  },
  {
   "cell_type": "code",
   "execution_count": 36,
   "metadata": {},
   "outputs": [],
   "source": [
    "combined.Gender.fillna('unknown', inplace=True)\n",
    "# one-hot-encode gender\n",
    "gender_dic = {'male':0, 'female':1, 'other':2, 'unknown':3, '0':0}\n",
    "combined.Gender = combined.Gender.map(gender_dic)\n",
    "one_hot = pd.get_dummies(combined.Gender, prefix='Gender')\n",
    "combined = combined.drop('Gender', axis=1)\n",
    "combined = combined.join(one_hot)"
   ]
  },
  {
   "cell_type": "markdown",
   "metadata": {},
   "source": [
    "#### Checking if any nulls are left"
   ]
  },
  {
   "cell_type": "code",
   "execution_count": 37,
   "metadata": {},
   "outputs": [
    {
     "data": {
      "text/plain": [
       "Year of Record       0\n",
       "Age                  0\n",
       "Country              0\n",
       "Profession           0\n",
       "University Degree    0\n",
       "Body Height [cm]     0\n",
       "Gender_0             0\n",
       "Gender_1             0\n",
       "Gender_2             0\n",
       "Gender_3             0\n",
       "dtype: int64"
      ]
     },
     "execution_count": 37,
     "metadata": {},
     "output_type": "execute_result"
    }
   ],
   "source": [
    "combined.isna().sum()"
   ]
  },
  {
   "cell_type": "markdown",
   "metadata": {},
   "source": [
    "### Target Encoding categorical variables"
   ]
  },
  {
   "cell_type": "code",
   "execution_count": 39,
   "metadata": {},
   "outputs": [],
   "source": [
    "te = ce.TargetEncoder(cols=['Country', 'Profession', 'University Degree', 'Year of Record']).fit(combined.iloc[0:111992,:], train_target)\n",
    "combined = te.transform(combined)"
   ]
  },
  {
   "cell_type": "markdown",
   "metadata": {},
   "source": [
    "#### Splitting train and test"
   ]
  },
  {
   "cell_type": "code",
   "execution_count": 40,
   "metadata": {},
   "outputs": [],
   "source": [
    "train_features = combined.iloc[0:111992, :]\n",
    "test_features = combined.iloc[111992:, :]"
   ]
  },
  {
   "cell_type": "markdown",
   "metadata": {},
   "source": [
    "#### Matching Columns"
   ]
  },
  {
   "cell_type": "code",
   "execution_count": 41,
   "metadata": {},
   "outputs": [
    {
     "data": {
      "text/plain": [
       "Index(['Year of Record', 'Age', 'Country', 'Profession', 'University Degree',\n",
       "       'Body Height [cm]', 'Gender_0', 'Gender_1', 'Gender_2', 'Gender_3'],\n",
       "      dtype='object')"
      ]
     },
     "execution_count": 41,
     "metadata": {},
     "output_type": "execute_result"
    }
   ],
   "source": [
    "train_features.columns"
   ]
  },
  {
   "cell_type": "code",
   "execution_count": 42,
   "metadata": {},
   "outputs": [
    {
     "data": {
      "text/plain": [
       "Index(['Year of Record', 'Age', 'Country', 'Profession', 'University Degree',\n",
       "       'Body Height [cm]', 'Gender_0', 'Gender_1', 'Gender_2', 'Gender_3'],\n",
       "      dtype='object')"
      ]
     },
     "execution_count": 42,
     "metadata": {},
     "output_type": "execute_result"
    }
   ],
   "source": [
    "test_features.columns"
   ]
  },
  {
   "cell_type": "markdown",
   "metadata": {},
   "source": [
    "### Scaling VAlues"
   ]
  },
  {
   "cell_type": "code",
   "execution_count": 43,
   "metadata": {},
   "outputs": [
    {
     "name": "stderr",
     "output_type": "stream",
     "text": [
      "C:\\Users\\Rajat\\Anaconda3\\envs\\FirstProject\\lib\\site-packages\\sklearn\\preprocessing\\data.py:334: DataConversionWarning: Data with input dtype uint8, int64, float64 were all converted to float64 by MinMaxScaler.\n",
      "  return self.partial_fit(X, y)\n"
     ]
    }
   ],
   "source": [
    "scaler = MinMaxScaler(feature_range=(0, 1))\n",
    "train_features = scaler.fit_transform(train_features)\n",
    "test_features = scaler.transform(test_features)"
   ]
  },
  {
   "cell_type": "markdown",
   "metadata": {},
   "source": [
    "### Creating and fitting random forest and predicting the outcome. RMSE is calculated on the same training set"
   ]
  },
  {
   "cell_type": "markdown",
   "metadata": {},
   "source": [
    "#### Linear Regression and SVM were also tried with the same data but the below model gave the lowest RMSE value"
   ]
  },
  {
   "cell_type": "code",
   "execution_count": 44,
   "metadata": {},
   "outputs": [
    {
     "name": "stdout",
     "output_type": "stream",
     "text": [
      "22673.021117278626\n"
     ]
    }
   ],
   "source": [
    "reg = rfr(n_estimators=100, random_state=123, min_samples_split=2, n_jobs=-1)\n",
    "reg.fit(train_features, train_target)\n",
    "pred = reg.predict(train_features)\n",
    "rms = sqrt(mean_squared_error(train_target, pred))\n",
    "print(rms)"
   ]
  },
  {
   "cell_type": "markdown",
   "metadata": {},
   "source": [
    "#### Predicting on test set and saving csv for submission"
   ]
  },
  {
   "cell_type": "code",
   "execution_count": 46,
   "metadata": {},
   "outputs": [],
   "source": [
    "pred= reg.predict(test_features)\n",
    "arr = np.array(range(111994, 185224))\n",
    "df = pd.DataFrame({'Instance': arr, 'Income': pred})\n",
    "df.to_csv('D:\\Documents\\Coursework\\Machine_Learning\\Kaggle_Assignment\\pred_100_trees.csv', index=False)"
   ]
  }
 ],
 "metadata": {
  "kernelspec": {
   "display_name": "Python (FirstProject)",
   "language": "python",
   "name": "firstproject"
  },
  "language_info": {
   "codemirror_mode": {
    "name": "ipython",
    "version": 3
   },
   "file_extension": ".py",
   "mimetype": "text/x-python",
   "name": "python",
   "nbconvert_exporter": "python",
   "pygments_lexer": "ipython3",
   "version": "3.6.8"
  }
 },
 "nbformat": 4,
 "nbformat_minor": 2
}
